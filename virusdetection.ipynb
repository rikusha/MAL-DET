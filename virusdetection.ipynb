{
 "cells": [
  {
   "cell_type": "markdown",
   "id": "c8529783-ffe9-4e31-b82d-1b051aa69744",
   "metadata": {
    "editable": true,
    "slideshow": {
     "slide_type": ""
    },
    "tags": []
   },
   "source": [
    "# Virus detection system"
   ]
  },
  {
   "cell_type": "markdown",
   "id": "411fb8ed-87ca-4c90-968b-bdd7d214f422",
   "metadata": {},
   "source": [
    "Mastering Machine Learning for Penetration Testing: https://amzn.to/2EpcBbz"
   ]
  },
  {
   "cell_type": "markdown",
   "id": "a5768b61-840b-4bb1-af64-588e6e700117",
   "metadata": {},
   "source": [
    "#  malware detection system\n"
   ]
  },
  {
   "cell_type": "markdown",
   "id": "c63ba60b-9eb8-411a-bb58-5f785c984fc9",
   "metadata": {},
   "source": [
    "Exploring the malware dataset.\n",
    "\n",
    "Malware Dataset:https://github.com/PacktPublishing/Mastering-Machine-Learning-for-Penetration-Testing/blob/master/Chapter03/MalwareData.csv.gz\n",
    "\n",
    "\n",
    "41,323 binaries (exe ,dll) - legitimate\n",
    "\n",
    "96,724 malware files from virusshare.com\n"
   ]
  },
  {
   "cell_type": "code",
   "execution_count": 1,
   "id": "bdc378cc-6a8c-4a6e-8f9c-e7061c7f1bf2",
   "metadata": {},
   "outputs": [
    {
     "name": "stdout",
     "output_type": "stream",
     "text": [
      "The shape of the legit dataset is: 41323 samples, 56 features\n",
      "The shape of the malware  dataset is: 96724 samples, 56 features\n"
     ]
    }
   ],
   "source": [
    "import pandas as pd\n",
    "import pickle\n",
    "malData = pd.read_csv(\"MalwareData.csv\",sep = \"|\" )\n",
    "legit = malData[0:41323].drop([\"legitimate\"] ,axis=1)\n",
    "mal = malData[41323::].drop([\"legitimate\"],axis=1)\n",
    "\n",
    "print(\"The shape of the legit dataset is: %s samples, %s features\"%(legit. shape[0], legit. shape[1]))\n",
    "print(\"The shape of the malware  dataset is: %s samples, %s features\"%(mal. shape[0], mal. shape[1]))"
   ]
  },
  {
   "cell_type": "code",
   "execution_count": 2,
   "id": "f00f9116-c1fd-46db-b7a7-4a2867f6f12d",
   "metadata": {},
   "outputs": [
    {
     "name": "stdout",
     "output_type": "stream",
     "text": [
      "Index(['Name', 'md5', 'Machine', 'SizeOfOptionalHeader', 'Characteristics',\n",
      "       'MajorLinkerVersion', 'MinorLinkerVersion', 'SizeOfCode',\n",
      "       'SizeOfInitializedData', 'SizeOfUninitializedData',\n",
      "       'AddressOfEntryPoint', 'BaseOfCode', 'BaseOfData', 'ImageBase',\n",
      "       'SectionAlignment', 'FileAlignment', 'MajorOperatingSystemVersion',\n",
      "       'MinorOperatingSystemVersion', 'MajorImageVersion', 'MinorImageVersion',\n",
      "       'MajorSubsystemVersion', 'MinorSubsystemVersion', 'SizeOfImage',\n",
      "       'SizeOfHeaders', 'CheckSum', 'Subsystem', 'DllCharacteristics',\n",
      "       'SizeOfStackReserve', 'SizeOfStackCommit', 'SizeOfHeapReserve',\n",
      "       'SizeOfHeapCommit', 'LoaderFlags', 'NumberOfRvaAndSizes', 'SectionsNb',\n",
      "       'SectionsMeanEntropy', 'SectionsMinEntropy', 'SectionsMaxEntropy',\n",
      "       'SectionsMeanRawsize', 'SectionsMinRawsize', 'SectionMaxRawsize',\n",
      "       'SectionsMeanVirtualsize', 'SectionsMinVirtualsize',\n",
      "       'SectionMaxVirtualsize', 'ImportsNbDLL', 'ImportsNb',\n",
      "       'ImportsNbOrdinal', 'ExportNb', 'ResourcesNb', 'ResourcesMeanEntropy',\n",
      "       'ResourcesMinEntropy', 'ResourcesMaxEntropy', 'ResourcesMeanSize',\n",
      "       'ResourcesMinSize', 'ResourcesMaxSize', 'LoadConfigurationSize',\n",
      "       'VersionInformationSize', 'legitimate'],\n",
      "      dtype='object')\n"
     ]
    }
   ],
   "source": [
    "print(malData.columns)"
   ]
  },
  {
   "cell_type": "code",
   "execution_count": 3,
   "id": "48a615aa-d22e-4fed-9f66-57102f5bc071",
   "metadata": {},
   "outputs": [
    {
     "name": "stdout",
     "output_type": "stream",
     "text": [
      "           Name                               md5  Machine  \\\n",
      "0   memtest.exe  631ea355665f28d4707448e442fbf5b8      332   \n",
      "1       ose.exe  9d10f99a6712e28f8acd5641e3a7ea6b      332   \n",
      "2     setup.exe  4d92f518527353c0db88a70fddcfd390      332   \n",
      "3      DW20.EXE  a41e524f8d45f0074fd07805ff0c9b12      332   \n",
      "4  dwtrig20.exe  c87e561258f2f8650cef999bf643a731      332   \n",
      "\n",
      "   SizeOfOptionalHeader  Characteristics  MajorLinkerVersion  \\\n",
      "0                   224              258                   9   \n",
      "1                   224             3330                   9   \n",
      "2                   224             3330                   9   \n",
      "3                   224              258                   9   \n",
      "4                   224              258                   9   \n",
      "\n",
      "   MinorLinkerVersion  SizeOfCode  SizeOfInitializedData  \\\n",
      "0                   0      361984                 115712   \n",
      "1                   0      130560                  19968   \n",
      "2                   0      517120                 621568   \n",
      "3                   0      585728                 369152   \n",
      "4                   0      294912                 247296   \n",
      "\n",
      "   SizeOfUninitializedData  ...  ResourcesNb  ResourcesMeanEntropy  \\\n",
      "0                        0  ...            4              3.262823   \n",
      "1                        0  ...            2              4.250461   \n",
      "2                        0  ...           11              4.426324   \n",
      "3                        0  ...           10              4.364291   \n",
      "4                        0  ...            2              4.306100   \n",
      "\n",
      "   ResourcesMinEntropy  ResourcesMaxEntropy  ResourcesMeanSize  \\\n",
      "0             2.568844             3.537939        8797.000000   \n",
      "1             3.420744             5.080177         837.000000   \n",
      "2             2.846449             5.271813       31102.272727   \n",
      "3             2.669314             6.400720        1457.000000   \n",
      "4             3.421598             5.190603        1074.500000   \n",
      "\n",
      "   ResourcesMinSize  ResourcesMaxSize  LoadConfigurationSize  \\\n",
      "0               216             18032                      0   \n",
      "1               518              1156                     72   \n",
      "2               104            270376                     72   \n",
      "3                90              4264                     72   \n",
      "4               849              1300                     72   \n",
      "\n",
      "   VersionInformationSize  legitimate  \n",
      "0                      16           1  \n",
      "1                      18           1  \n",
      "2                      18           1  \n",
      "3                      18           1  \n",
      "4                      18           1  \n",
      "\n",
      "[5 rows x 57 columns]\n"
     ]
    }
   ],
   "source": [
    "print(malData.head(5))"
   ]
  },
  {
   "cell_type": "code",
   "execution_count": 4,
   "id": "9fecfa73-5806-46c6-8890-29b7220ad800",
   "metadata": {},
   "outputs": [
    {
     "data": {
      "image/png": "[encoded data removed]",
      "text/plain": [
       "<Figure size 640x480 with 1 Axes>"
      ]
     },
     "metadata": {},
     "output_type": "display_data"
    },
    {
     "data": {
      "image/png": "[encoded data removed]",
      "text/plain": [
       "<Figure size 640x480 with 1 Axes>"
      ]
     },
     "metadata": {},
     "output_type": "display_data"
    }
   ],
   "source": [
    "import seaborn as sns\n",
    "import matplotlib.pyplot as plt\n",
    "\n",
    "# Box plot of a numerical feature by legitimacy\n",
    "sns.boxplot(x='legitimate', y='SizeOfInitializedData', data=malData)\n",
    "plt.title('Initialized Data Size by Legitimacy')\n",
    "plt.show()\n",
    "\n",
    "# Scatter plot of two numerical features\n",
    "sns.scatterplot(x='SizeOfCode', y='SizeOfInitializedData', hue='legitimate', data=malData)\n",
    "plt.title('Relationship between Code Size and Initialized Data Size')\n",
    "plt.show()"
   ]
  },
  {
   "cell_type": "code",
   "execution_count": 5,
   "id": "9271b48d-cbb6-4475-a063-abf2ce9ae493",
   "metadata": {},
   "outputs": [],
   "source": [
    "pd.set_option(\"display.max_columns\",None)"
   ]
  },
  {
   "cell_type": "code",
   "execution_count": 6,
   "id": "5606765e-fbea-4fdf-a96f-f06a00f4d1de",
   "metadata": {},
   "outputs": [
    {
     "name": "stdout",
     "output_type": "stream",
     "text": [
      "           Name                               md5  Machine  \\\n",
      "0   memtest.exe  631ea355665f28d4707448e442fbf5b8      332   \n",
      "1       ose.exe  9d10f99a6712e28f8acd5641e3a7ea6b      332   \n",
      "2     setup.exe  4d92f518527353c0db88a70fddcfd390      332   \n",
      "3      DW20.EXE  a41e524f8d45f0074fd07805ff0c9b12      332   \n",
      "4  dwtrig20.exe  c87e561258f2f8650cef999bf643a731      332   \n",
      "\n",
      "   SizeOfOptionalHeader  Characteristics  MajorLinkerVersion  \\\n",
      "0                   224              258                   9   \n",
      "1                   224             3330                   9   \n",
      "2                   224             3330                   9   \n",
      "3                   224              258                   9   \n",
      "4                   224              258                   9   \n",
      "\n",
      "   MinorLinkerVersion  SizeOfCode  SizeOfInitializedData  \\\n",
      "0                   0      361984                 115712   \n",
      "1                   0      130560                  19968   \n",
      "2                   0      517120                 621568   \n",
      "3                   0      585728                 369152   \n",
      "4                   0      294912                 247296   \n",
      "\n",
      "   SizeOfUninitializedData  AddressOfEntryPoint  BaseOfCode  BaseOfData  \\\n",
      "0                        0                 6135        4096      372736   \n",
      "1                        0                81778        4096      143360   \n",
      "2                        0               350896        4096      811008   \n",
      "3                        0               451258        4096      798720   \n",
      "4                        0               217381        4096      536576   \n",
      "\n",
      "     ImageBase  SectionAlignment  FileAlignment  MajorOperatingSystemVersion  \\\n",
      "0    4194304.0              4096            512                            0   \n",
      "1  771751936.0              4096            512                            5   \n",
      "2  771751936.0              4096            512                            5   \n",
      "3  771751936.0              4096            512                            5   \n",
      "4  771751936.0              4096            512                            5   \n",
      "\n",
      "   MinorOperatingSystemVersion  MajorImageVersion  MinorImageVersion  \\\n",
      "0                            0                  0                  0   \n",
      "1                            1                  0                  0   \n",
      "2                            1                  0                  0   \n",
      "3                            1                  0                  0   \n",
      "4                            1                  0                  0   \n",
      "\n",
      "   MajorSubsystemVersion  MinorSubsystemVersion  SizeOfImage  SizeOfHeaders  \\\n",
      "0                      1                      0      1036288           1024   \n",
      "1                      5                      1       159744           1024   \n",
      "2                      5                      1      1150976           1024   \n",
      "3                      5                      1       962560           1024   \n",
      "4                      5                      1       552960           1024   \n",
      "\n",
      "   CheckSum  Subsystem  DllCharacteristics  SizeOfStackReserve  \\\n",
      "0    485887         16                1024             1048576   \n",
      "1    188943          2               33088             1048576   \n",
      "2   1159817          2               32832             1048576   \n",
      "3    867570          2               33088             1048576   \n",
      "4    579287          2               33088             1048576   \n",
      "\n",
      "   SizeOfStackCommit  SizeOfHeapReserve  SizeOfHeapCommit  LoaderFlags  \\\n",
      "0               4096            1048576              4096            0   \n",
      "1               4096            1048576              4096            0   \n",
      "2               4096            1048576              4096            0   \n",
      "3               4096            1048576              4096            0   \n",
      "4               4096            1048576              4096            0   \n",
      "\n",
      "   NumberOfRvaAndSizes  SectionsNb  SectionsMeanEntropy  SectionsMinEntropy  \\\n",
      "0                   16           8             5.766807            3.607430   \n",
      "1                   16           4             4.839688            2.373525   \n",
      "2                   16           4             6.409558            4.885191   \n",
      "3                   16           4             6.641731            5.642565   \n",
      "4                   16           4             6.252684            4.182282   \n",
      "\n",
      "   SectionsMaxEntropy  SectionsMeanRawsize  SectionsMinRawsize  \\\n",
      "0            7.221051              59712.0                1024   \n",
      "1            6.566909              35584.0                2048   \n",
      "2            7.600957             273408.0               21504   \n",
      "3            7.594929             207872.0               15360   \n",
      "4            7.608305             128128.0                2560   \n",
      "\n",
      "   SectionMaxRawsize  SectionsMeanVirtualsize  SectionsMinVirtualsize  \\\n",
      "0             325120               126875.875                     896   \n",
      "1             130560                37322.000                    1840   \n",
      "2             517120               284498.000                   21456   \n",
      "3             585728               238502.000                   15208   \n",
      "4             294912               135350.000                    2320   \n",
      "\n",
      "   SectionMaxVirtualsize  ImportsNbDLL  ImportsNb  ImportsNbOrdinal  ExportNb  \\\n",
      "0                 551848             0          0                 0         0   \n",
      "1                 130296             7        181                 0         0   \n",
      "2                 516760            14        235                21         1   \n",
      "3                 585488            15        360                 6         1   \n",
      "4                 294816            10        194                 4         1   \n",
      "\n",
      "   ResourcesNb  ResourcesMeanEntropy  ResourcesMinEntropy  \\\n",
      "0            4              3.262823             2.568844   \n",
      "1            2              4.250461             3.420744   \n",
      "2           11              4.426324             2.846449   \n",
      "3           10              4.364291             2.669314   \n",
      "4            2              4.306100             3.421598   \n",
      "\n",
      "   ResourcesMaxEntropy  ResourcesMeanSize  ResourcesMinSize  ResourcesMaxSize  \\\n",
      "0             3.537939        8797.000000               216             18032   \n",
      "1             5.080177         837.000000               518              1156   \n",
      "2             5.271813       31102.272727               104            270376   \n",
      "3             6.400720        1457.000000                90              4264   \n",
      "4             5.190603        1074.500000               849              1300   \n",
      "\n",
      "   LoadConfigurationSize  VersionInformationSize  legitimate  \n",
      "0                      0                      16           1  \n",
      "1                     72                      18           1  \n",
      "2                     72                      18           1  \n",
      "3                     72                      18           1  \n",
      "4                     72                      18           1  \n"
     ]
    }
   ],
   "source": [
    "print(malData.head(5))"
   ]
  },
  {
   "cell_type": "code",
   "execution_count": 7,
   "id": "0b1c63d8-2b32-4e84-8ee7-6a84f5da4adc",
   "metadata": {},
   "outputs": [
    {
     "name": "stdout",
     "output_type": "stream",
     "text": [
      "      Name                               md5  Machine  SizeOfOptionalHeader  \\\n",
      "1  ose.exe  9d10f99a6712e28f8acd5641e3a7ea6b      332                   224   \n",
      "\n",
      "   Characteristics  MajorLinkerVersion  MinorLinkerVersion  SizeOfCode  \\\n",
      "1             3330                   9                   0      130560   \n",
      "\n",
      "   SizeOfInitializedData  SizeOfUninitializedData  AddressOfEntryPoint  \\\n",
      "1                  19968                        0                81778   \n",
      "\n",
      "   BaseOfCode  BaseOfData    ImageBase  SectionAlignment  FileAlignment  \\\n",
      "1        4096      143360  771751936.0              4096            512   \n",
      "\n",
      "   MajorOperatingSystemVersion  MinorOperatingSystemVersion  \\\n",
      "1                            5                            1   \n",
      "\n",
      "   MajorImageVersion  MinorImageVersion  MajorSubsystemVersion  \\\n",
      "1                  0                  0                      5   \n",
      "\n",
      "   MinorSubsystemVersion  SizeOfImage  SizeOfHeaders  CheckSum  Subsystem  \\\n",
      "1                      1       159744           1024    188943          2   \n",
      "\n",
      "   DllCharacteristics  SizeOfStackReserve  SizeOfStackCommit  \\\n",
      "1               33088             1048576               4096   \n",
      "\n",
      "   SizeOfHeapReserve  SizeOfHeapCommit  LoaderFlags  NumberOfRvaAndSizes  \\\n",
      "1            1048576              4096            0                   16   \n",
      "\n",
      "   SectionsNb  SectionsMeanEntropy  SectionsMinEntropy  SectionsMaxEntropy  \\\n",
      "1           4             4.839688            2.373525            6.566909   \n",
      "\n",
      "   SectionsMeanRawsize  SectionsMinRawsize  SectionMaxRawsize  \\\n",
      "1              35584.0                2048             130560   \n",
      "\n",
      "   SectionsMeanVirtualsize  SectionsMinVirtualsize  SectionMaxVirtualsize  \\\n",
      "1                  37322.0                    1840                 130296   \n",
      "\n",
      "   ImportsNbDLL  ImportsNb  ImportsNbOrdinal  ExportNb  ResourcesNb  \\\n",
      "1             7        181                 0         0            2   \n",
      "\n",
      "   ResourcesMeanEntropy  ResourcesMinEntropy  ResourcesMaxEntropy  \\\n",
      "1              4.250461             3.420744             5.080177   \n",
      "\n",
      "   ResourcesMeanSize  ResourcesMinSize  ResourcesMaxSize  \\\n",
      "1              837.0               518              1156   \n",
      "\n",
      "   LoadConfigurationSize  VersionInformationSize  \n",
      "1                     72                      18  \n"
     ]
    }
   ],
   "source": [
    "print(legit.take([1]))"
   ]
  },
  {
   "cell_type": "code",
   "execution_count": 8,
   "id": "44433604-aa33-4110-ad1f-b6b7ed5a313d",
   "metadata": {},
   "outputs": [
    {
     "name": "stdout",
     "output_type": "stream",
     "text": [
      "                                              Name  \\\n",
      "41324  VirusShare_9bd57c8252948bd2fa651ad372bd4f13   \n",
      "\n",
      "                                    md5  Machine  SizeOfOptionalHeader  \\\n",
      "41324  9bd57c8252948bd2fa651ad372bd4f13      332                   224   \n",
      "\n",
      "       Characteristics  MajorLinkerVersion  MinorLinkerVersion  SizeOfCode  \\\n",
      "41324              271                   6                   0       24064   \n",
      "\n",
      "       SizeOfInitializedData  SizeOfUninitializedData  AddressOfEntryPoint  \\\n",
      "41324                 164864                     1024                12538   \n",
      "\n",
      "       BaseOfCode  BaseOfData  ImageBase  SectionAlignment  FileAlignment  \\\n",
      "41324        4096       28672  4194304.0              4096            512   \n",
      "\n",
      "       MajorOperatingSystemVersion  MinorOperatingSystemVersion  \\\n",
      "41324                            4                            0   \n",
      "\n",
      "       MajorImageVersion  MinorImageVersion  MajorSubsystemVersion  \\\n",
      "41324                  6                  0                      4   \n",
      "\n",
      "       MinorSubsystemVersion  SizeOfImage  SizeOfHeaders  CheckSum  Subsystem  \\\n",
      "41324                      0       241664           1024         0          2   \n",
      "\n",
      "       DllCharacteristics  SizeOfStackReserve  SizeOfStackCommit  \\\n",
      "41324               32768             1048576               4096   \n",
      "\n",
      "       SizeOfHeapReserve  SizeOfHeapCommit  LoaderFlags  NumberOfRvaAndSizes  \\\n",
      "41324            1048576              4096            0                   16   \n",
      "\n",
      "       SectionsNb  SectionsMeanEntropy  SectionsMinEntropy  \\\n",
      "41324           5             4.104541                 0.0   \n",
      "\n",
      "       SectionsMaxEntropy  SectionsMeanRawsize  SectionsMinRawsize  \\\n",
      "41324            6.440106               6758.4                   0   \n",
      "\n",
      "       SectionMaxRawsize  SectionsMeanVirtualsize  SectionsMinVirtualsize  \\\n",
      "41324              24064                  46260.8                    3144   \n",
      "\n",
      "       SectionMaxVirtualsize  ImportsNbDLL  ImportsNb  ImportsNbOrdinal  \\\n",
      "41324                 154712             8        155                 1   \n",
      "\n",
      "       ExportNb  ResourcesNb  ResourcesMeanEntropy  ResourcesMinEntropy  \\\n",
      "41324         0            6              3.199107             1.971335   \n",
      "\n",
      "       ResourcesMaxEntropy  ResourcesMeanSize  ResourcesMinSize  \\\n",
      "41324             5.214816              452.0                34   \n",
      "\n",
      "       ResourcesMaxSize  LoadConfigurationSize  VersionInformationSize  \n",
      "41324               958                      0                      15  \n"
     ]
    }
   ],
   "source": [
    "print(mal.take([1]))"
   ]
  },
  {
   "cell_type": "markdown",
   "id": "8043503f-0e35-4140-9685-0e58fe6c2eba",
   "metadata": {},
   "source": [
    "# Tree classifier\n",
    "cleaning the data"
   ]
  },
  {
   "cell_type": "code",
   "execution_count": 9,
   "id": "f9acb93a-de70-4d3e-b6a4-0a623ae475ac",
   "metadata": {},
   "outputs": [],
   "source": [
    "from sklearn.ensemble import ExtraTreesClassifier\n",
    "from sklearn.feature_selection import SelectFromModel\n",
    "from sklearn.datasets import load_iris\n",
    "from sklearn.model_selection import train_test_split"
   ]
  },
  {
   "cell_type": "code",
   "execution_count": 10,
   "id": "e0f0fcc7-0731-43cc-b8ec-3f47a58bd244",
   "metadata": {},
   "outputs": [
    {
     "name": "stdout",
     "output_type": "stream",
     "text": [
      "(138047, 54) (138047, 14)\n"
     ]
    }
   ],
   "source": [
    "data_in = malData.drop([ 'Name','md5', 'legitimate'], axis=1).values\n",
    "labels = malData[ 'legitimate']. values\n",
    "extratrees = ExtraTreesClassifier(). fit(data_in,labels)\n",
    "select = SelectFromModel(extratrees,prefit=True)\n",
    "data_in_new = select. transform(data_in)\n",
    "print (data_in. shape, data_in_new.shape)"
   ]
  },
  {
   "cell_type": "code",
   "execution_count": 11,
   "id": "643cffcd-abc3-4321-8402-82770ed59e80",
   "metadata": {},
   "outputs": [
    {
     "name": "stdout",
     "output_type": "stream",
     "text": [
      "1 DllCharacteristics 0.15003485898171692\n",
      "2 Machine 0.1098981695752271\n",
      "3 Characteristics 0.08533228673096753\n",
      "4 VersionInformationSize 0.08488024328202101\n",
      "5 ImageBase 0.061374604461429276\n",
      "6 SectionsMaxEntropy 0.04661990355536793\n",
      "7 SizeOfOptionalHeader 0.04503325675079814\n",
      "8 Subsystem 0.04500519987438471\n",
      "9 ResourcesMaxEntropy 0.042940138853992116\n",
      "10 MajorSubsystemVersion 0.04149149447752334\n",
      "11 ResourcesMinEntropy 0.03757048626939969\n",
      "12 SectionsMinEntropy 0.024741196395573525\n",
      "13 MajorOperatingSystemVersion 0.0229939927330957\n",
      "14 SizeOfStackReserve 0.02019032874162763\n"
     ]
    }
   ],
   "source": [
    "import numpy as np\n",
    "features = data_in_new.shape[1]\n",
    "importances = extratrees.feature_importances_\n",
    "indices = np. argsort(importances) [:: -1]\n",
    "for f in range (features) :\n",
    "    print(\"%d\"%(f+1), malData.columns[2+indices[f]], importances[indices [f]])"
   ]
  },
  {
   "cell_type": "code",
   "execution_count": 12,
   "id": "526955e7-9836-45b6-81bf-ae626bd71f08",
   "metadata": {},
   "outputs": [
    {
     "data": {
      "text/html": [
       "<style>#sk-container-id-1 {\n",
       "  /* Definition of color scheme common for light and dark mode */\n",
       "  --sklearn-color-text: black;\n",
       "  --sklearn-color-line: gray;\n",
       "  /* Definition of color scheme for unfitted estimators */\n",
       "  --sklearn-color-unfitted-level-0: #fff5e6;\n",
       "  --sklearn-color-unfitted-level-1: #f6e4d2;\n",
       "  --sklearn-color-unfitted-level-2: #ffe0b3;\n",
       "  --sklearn-color-unfitted-level-3: chocolate;\n",
       "  /* Definition of color scheme for fitted estimators */\n",
       "  --sklearn-color-fitted-level-0: #f0f8ff;\n",
       "  --sklearn-color-fitted-level-1: #d4ebff;\n",
       "  --sklearn-color-fitted-level-2: #b3dbfd;\n",
       "  --sklearn-color-fitted-level-3: cornflowerblue;\n",
       "\n",
       "  /* Specific color for light theme */\n",
       "  --sklearn-color-text-on-default-background: var(--sg-text-color, var(--theme-code-foreground, var(--jp-content-font-color1, black)));\n",
       "  --sklearn-color-background: var(--sg-background-color, var(--theme-background, var(--jp-layout-color0, white)));\n",
       "  --sklearn-color-border-box: var(--sg-text-color, var(--theme-code-foreground, var(--jp-content-font-color1, black)));\n",
       "  --sklearn-color-icon: #696969;\n",
       "\n",
       "  @media (prefers-color-scheme: dark) {\n",
       "    /* Redefinition of color scheme for dark theme */\n",
       "    --sklearn-color-text-on-default-background: var(--sg-text-color, var(--theme-code-foreground, var(--jp-content-font-color1, white)));\n",
       "    --sklearn-color-background: var(--sg-background-color, var(--theme-background, var(--jp-layout-color0, #111)));\n",
       "    --sklearn-color-border-box: var(--sg-text-color, var(--theme-code-foreground, var(--jp-content-font-color1, white)));\n",
       "    --sklearn-color-icon: #878787;\n",
       "  }\n",
       "}\n",
       "\n",
       "#sk-container-id-1 {\n",
       "  color: var(--sklearn-color-text);\n",
       "}\n",
       "\n",
       "#sk-container-id-1 pre {\n",
       "  padding: 0;\n",
       "}\n",
       "\n",
       "#sk-container-id-1 input.sk-hidden--visually {\n",
       "  border: 0;\n",
       "  clip: rect(1px 1px 1px 1px);\n",
       "  clip: rect(1px, 1px, 1px, 1px);\n",
       "  height: 1px;\n",
       "  margin: -1px;\n",
       "  overflow: hidden;\n",
       "  padding: 0;\n",
       "  position: absolute;\n",
       "  width: 1px;\n",
       "}\n",
       "\n",
       "#sk-container-id-1 div.sk-dashed-wrapped {\n",
       "  border: 1px dashed var(--sklearn-color-line);\n",
       "  margin: 0 0.4em 0.5em 0.4em;\n",
       "  box-sizing: border-box;\n",
       "  padding-bottom: 0.4em;\n",
       "  background-color: var(--sklearn-color-background);\n",
       "}\n",
       "\n",
       "#sk-container-id-1 div.sk-container {\n",
       "  /* jupyter's `normalize.less` sets `[hidden] { display: none; }`\n",
       "     but bootstrap.min.css set `[hidden] { display: none !important; }`\n",
       "     so we also need the `!important` here to be able to override the\n",
       "     default hidden behavior on the sphinx rendered scikit-learn.org.\n",
       "     See: https://github.com/scikit-learn/scikit-learn/issues/21755 */\n",
       "  display: inline-block !important;\n",
       "  position: relative;\n",
       "}\n",
       "\n",
       "#sk-container-id-1 div.sk-text-repr-fallback {\n",
       "  display: none;\n",
       "}\n",
       "\n",
       "div.sk-parallel-item,\n",
       "div.sk-serial,\n",
       "div.sk-item {\n",
       "  /* draw centered vertical line to link estimators */\n",
       "  background-image: linear-gradient(var(--sklearn-color-text-on-default-background), var(--sklearn-color-text-on-default-background));\n",
       "  background-size: 2px 100%;\n",
       "  background-repeat: no-repeat;\n",
       "  background-position: center center;\n",
       "}\n",
       "\n",
       "/* Parallel-specific style estimator block */\n",
       "\n",
       "#sk-container-id-1 div.sk-parallel-item::after {\n",
       "  content: \"\";\n",
       "  width: 100%;\n",
       "  border-bottom: 2px solid var(--sklearn-color-text-on-default-background);\n",
       "  flex-grow: 1;\n",
       "}\n",
       "\n",
       "#sk-container-id-1 div.sk-parallel {\n",
       "  display: flex;\n",
       "  align-items: stretch;\n",
       "  justify-content: center;\n",
       "  background-color: var(--sklearn-color-background);\n",
       "  position: relative;\n",
       "}\n",
       "\n",
       "#sk-container-id-1 div.sk-parallel-item {\n",
       "  display: flex;\n",
       "  flex-direction: column;\n",
       "}\n",
       "\n",
       "#sk-container-id-1 div.sk-parallel-item:first-child::after {\n",
       "  align-self: flex-end;\n",
       "  width: 50%;\n",
       "}\n",
       "\n",
       "#sk-container-id-1 div.sk-parallel-item:last-child::after {\n",
       "  align-self: flex-start;\n",
       "  width: 50%;\n",
       "}\n",
       "\n",
       "#sk-container-id-1 div.sk-parallel-item:only-child::after {\n",
       "  width: 0;\n",
       "}\n",
       "\n",
       "/* Serial-specific style estimator block */\n",
       "\n",
       "#sk-container-id-1 div.sk-serial {\n",
       "  display: flex;\n",
       "  flex-direction: column;\n",
       "  align-items: center;\n",
       "  background-color: var(--sklearn-color-background);\n",
       "  padding-right: 1em;\n",
       "  padding-left: 1em;\n",
       "}\n",
       "\n",
       "\n",
       "/* Toggleable style: style used for estimator/Pipeline/ColumnTransformer box that is\n",
       "clickable and can be expanded/collapsed.\n",
       "- Pipeline and ColumnTransformer use this feature and define the default style\n",
       "- Estimators will overwrite some part of the style using the `sk-estimator` class\n",
       "*/\n",
       "\n",
       "/* Pipeline and ColumnTransformer style (default) */\n",
       "\n",
       "#sk-container-id-1 div.sk-toggleable {\n",
       "  /* Default theme specific background. It is overwritten whether we have a\n",
       "  specific estimator or a Pipeline/ColumnTransformer */\n",
       "  background-color: var(--sklearn-color-background);\n",
       "}\n",
       "\n",
       "/* Toggleable label */\n",
       "#sk-container-id-1 label.sk-toggleable__label {\n",
       "  cursor: pointer;\n",
       "  display: block;\n",
       "  width: 100%;\n",
       "  margin-bottom: 0;\n",
       "  padding: 0.5em;\n",
       "  box-sizing: border-box;\n",
       "  text-align: center;\n",
       "}\n",
       "\n",
       "#sk-container-id-1 label.sk-toggleable__label-arrow:before {\n",
       "  /* Arrow on the left of the label */\n",
       "  content: \"▸\";\n",
       "  float: left;\n",
       "  margin-right: 0.25em;\n",
       "  color: var(--sklearn-color-icon);\n",
       "}\n",
       "\n",
       "#sk-container-id-1 label.sk-toggleable__label-arrow:hover:before {\n",
       "  color: var(--sklearn-color-text);\n",
       "}\n",
       "\n",
       "/* Toggleable content - dropdown */\n",
       "\n",
       "#sk-container-id-1 div.sk-toggleable__content {\n",
       "  max-height: 0;\n",
       "  max-width: 0;\n",
       "  overflow: hidden;\n",
       "  text-align: left;\n",
       "  /* unfitted */\n",
       "  background-color: var(--sklearn-color-unfitted-level-0);\n",
       "}\n",
       "\n",
       "#sk-container-id-1 div.sk-toggleable__content.fitted {\n",
       "  /* fitted */\n",
       "  background-color: var(--sklearn-color-fitted-level-0);\n",
       "}\n",
       "\n",
       "#sk-container-id-1 div.sk-toggleable__content pre {\n",
       "  margin: 0.2em;\n",
       "  border-radius: 0.25em;\n",
       "  color: var(--sklearn-color-text);\n",
       "  /* unfitted */\n",
       "  background-color: var(--sklearn-color-unfitted-level-0);\n",
       "}\n",
       "\n",
       "#sk-container-id-1 div.sk-toggleable__content.fitted pre {\n",
       "  /* unfitted */\n",
       "  background-color: var(--sklearn-color-fitted-level-0);\n",
       "}\n",
       "\n",
       "#sk-container-id-1 input.sk-toggleable__control:checked~div.sk-toggleable__content {\n",
       "  /* Expand drop-down */\n",
       "  max-height: 200px;\n",
       "  max-width: 100%;\n",
       "  overflow: auto;\n",
       "}\n",
       "\n",
       "#sk-container-id-1 input.sk-toggleable__control:checked~label.sk-toggleable__label-arrow:before {\n",
       "  content: \"▾\";\n",
       "}\n",
       "\n",
       "/* Pipeline/ColumnTransformer-specific style */\n",
       "\n",
       "#sk-container-id-1 div.sk-label input.sk-toggleable__control:checked~label.sk-toggleable__label {\n",
       "  color: var(--sklearn-color-text);\n",
       "  background-color: var(--sklearn-color-unfitted-level-2);\n",
       "}\n",
       "\n",
       "#sk-container-id-1 div.sk-label.fitted input.sk-toggleable__control:checked~label.sk-toggleable__label {\n",
       "  background-color: var(--sklearn-color-fitted-level-2);\n",
       "}\n",
       "\n",
       "/* Estimator-specific style */\n",
       "\n",
       "/* Colorize estimator box */\n",
       "#sk-container-id-1 div.sk-estimator input.sk-toggleable__control:checked~label.sk-toggleable__label {\n",
       "  /* unfitted */\n",
       "  background-color: var(--sklearn-color-unfitted-level-2);\n",
       "}\n",
       "\n",
       "#sk-container-id-1 div.sk-estimator.fitted input.sk-toggleable__control:checked~label.sk-toggleable__label {\n",
       "  /* fitted */\n",
       "  background-color: var(--sklearn-color-fitted-level-2);\n",
       "}\n",
       "\n",
       "#sk-container-id-1 div.sk-label label.sk-toggleable__label,\n",
       "#sk-container-id-1 div.sk-label label {\n",
       "  /* The background is the default theme color */\n",
       "  color: var(--sklearn-color-text-on-default-background);\n",
       "}\n",
       "\n",
       "/* On hover, darken the color of the background */\n",
       "#sk-container-id-1 div.sk-label:hover label.sk-toggleable__label {\n",
       "  color: var(--sklearn-color-text);\n",
       "  background-color: var(--sklearn-color-unfitted-level-2);\n",
       "}\n",
       "\n",
       "/* Label box, darken color on hover, fitted */\n",
       "#sk-container-id-1 div.sk-label.fitted:hover label.sk-toggleable__label.fitted {\n",
       "  color: var(--sklearn-color-text);\n",
       "  background-color: var(--sklearn-color-fitted-level-2);\n",
       "}\n",
       "\n",
       "/* Estimator label */\n",
       "\n",
       "#sk-container-id-1 div.sk-label label {\n",
       "  font-family: monospace;\n",
       "  font-weight: bold;\n",
       "  display: inline-block;\n",
       "  line-height: 1.2em;\n",
       "}\n",
       "\n",
       "#sk-container-id-1 div.sk-label-container {\n",
       "  text-align: center;\n",
       "}\n",
       "\n",
       "/* Estimator-specific */\n",
       "#sk-container-id-1 div.sk-estimator {\n",
       "  font-family: monospace;\n",
       "  border: 1px dotted var(--sklearn-color-border-box);\n",
       "  border-radius: 0.25em;\n",
       "  box-sizing: border-box;\n",
       "  margin-bottom: 0.5em;\n",
       "  /* unfitted */\n",
       "  background-color: var(--sklearn-color-unfitted-level-0);\n",
       "}\n",
       "\n",
       "#sk-container-id-1 div.sk-estimator.fitted {\n",
       "  /* fitted */\n",
       "  background-color: var(--sklearn-color-fitted-level-0);\n",
       "}\n",
       "\n",
       "/* on hover */\n",
       "#sk-container-id-1 div.sk-estimator:hover {\n",
       "  /* unfitted */\n",
       "  background-color: var(--sklearn-color-unfitted-level-2);\n",
       "}\n",
       "\n",
       "#sk-container-id-1 div.sk-estimator.fitted:hover {\n",
       "  /* fitted */\n",
       "  background-color: var(--sklearn-color-fitted-level-2);\n",
       "}\n",
       "\n",
       "/* Specification for estimator info (e.g. \"i\" and \"?\") */\n",
       "\n",
       "/* Common style for \"i\" and \"?\" */\n",
       "\n",
       ".sk-estimator-doc-link,\n",
       "a:link.sk-estimator-doc-link,\n",
       "a:visited.sk-estimator-doc-link {\n",
       "  float: right;\n",
       "  font-size: smaller;\n",
       "  line-height: 1em;\n",
       "  font-family: monospace;\n",
       "  background-color: var(--sklearn-color-background);\n",
       "  border-radius: 1em;\n",
       "  height: 1em;\n",
       "  width: 1em;\n",
       "  text-decoration: none !important;\n",
       "  margin-left: 1ex;\n",
       "  /* unfitted */\n",
       "  border: var(--sklearn-color-unfitted-level-1) 1pt solid;\n",
       "  color: var(--sklearn-color-unfitted-level-1);\n",
       "}\n",
       "\n",
       ".sk-estimator-doc-link.fitted,\n",
       "a:link.sk-estimator-doc-link.fitted,\n",
       "a:visited.sk-estimator-doc-link.fitted {\n",
       "  /* fitted */\n",
       "  border: var(--sklearn-color-fitted-level-1) 1pt solid;\n",
       "  color: var(--sklearn-color-fitted-level-1);\n",
       "}\n",
       "\n",
       "/* On hover */\n",
       "div.sk-estimator:hover .sk-estimator-doc-link:hover,\n",
       ".sk-estimator-doc-link:hover,\n",
       "div.sk-label-container:hover .sk-estimator-doc-link:hover,\n",
       ".sk-estimator-doc-link:hover {\n",
       "  /* unfitted */\n",
       "  background-color: var(--sklearn-color-unfitted-level-3);\n",
       "  color: var(--sklearn-color-background);\n",
       "  text-decoration: none;\n",
       "}\n",
       "\n",
       "div.sk-estimator.fitted:hover .sk-estimator-doc-link.fitted:hover,\n",
       ".sk-estimator-doc-link.fitted:hover,\n",
       "div.sk-label-container:hover .sk-estimator-doc-link.fitted:hover,\n",
       ".sk-estimator-doc-link.fitted:hover {\n",
       "  /* fitted */\n",
       "  background-color: var(--sklearn-color-fitted-level-3);\n",
       "  color: var(--sklearn-color-background);\n",
       "  text-decoration: none;\n",
       "}\n",
       "\n",
       "/* Span, style for the box shown on hovering the info icon */\n",
       ".sk-estimator-doc-link span {\n",
       "  display: none;\n",
       "  z-index: 9999;\n",
       "  position: relative;\n",
       "  font-weight: normal;\n",
       "  right: .2ex;\n",
       "  padding: .5ex;\n",
       "  margin: .5ex;\n",
       "  width: min-content;\n",
       "  min-width: 20ex;\n",
       "  max-width: 50ex;\n",
       "  color: var(--sklearn-color-text);\n",
       "  box-shadow: 2pt 2pt 4pt #999;\n",
       "  /* unfitted */\n",
       "  background: var(--sklearn-color-unfitted-level-0);\n",
       "  border: .5pt solid var(--sklearn-color-unfitted-level-3);\n",
       "}\n",
       "\n",
       ".sk-estimator-doc-link.fitted span {\n",
       "  /* fitted */\n",
       "  background: var(--sklearn-color-fitted-level-0);\n",
       "  border: var(--sklearn-color-fitted-level-3);\n",
       "}\n",
       "\n",
       ".sk-estimator-doc-link:hover span {\n",
       "  display: block;\n",
       "}\n",
       "\n",
       "/* \"?\"-specific style due to the `<a>` HTML tag */\n",
       "\n",
       "#sk-container-id-1 a.estimator_doc_link {\n",
       "  float: right;\n",
       "  font-size: 1rem;\n",
       "  line-height: 1em;\n",
       "  font-family: monospace;\n",
       "  background-color: var(--sklearn-color-background);\n",
       "  border-radius: 1rem;\n",
       "  height: 1rem;\n",
       "  width: 1rem;\n",
       "  text-decoration: none;\n",
       "  /* unfitted */\n",
       "  color: var(--sklearn-color-unfitted-level-1);\n",
       "  border: var(--sklearn-color-unfitted-level-1) 1pt solid;\n",
       "}\n",
       "\n",
       "#sk-container-id-1 a.estimator_doc_link.fitted {\n",
       "  /* fitted */\n",
       "  border: var(--sklearn-color-fitted-level-1) 1pt solid;\n",
       "  color: var(--sklearn-color-fitted-level-1);\n",
       "}\n",
       "\n",
       "/* On hover */\n",
       "#sk-container-id-1 a.estimator_doc_link:hover {\n",
       "  /* unfitted */\n",
       "  background-color: var(--sklearn-color-unfitted-level-3);\n",
       "  color: var(--sklearn-color-background);\n",
       "  text-decoration: none;\n",
       "}\n",
       "\n",
       "#sk-container-id-1 a.estimator_doc_link.fitted:hover {\n",
       "  /* fitted */\n",
       "  background-color: var(--sklearn-color-fitted-level-3);\n",
       "}\n",
       "</style><div id=\"sk-container-id-1\" class=\"sk-top-container\"><div class=\"sk-text-repr-fallback\"><pre>RandomForestClassifier(n_estimators=50)</pre><b>In a Jupyter environment, please rerun this cell to show the HTML representation or trust the notebook. <br />On GitHub, the HTML representation is unable to render, please try loading this page with nbviewer.org.</b></div><div class=\"sk-container\" hidden><div class=\"sk-item\"><div class=\"sk-estimator fitted sk-toggleable\"><input class=\"sk-toggleable__control sk-hidden--visually\" id=\"sk-estimator-id-1\" type=\"checkbox\" checked><label for=\"sk-estimator-id-1\" class=\"sk-toggleable__label fitted sk-toggleable__label-arrow fitted\">&nbsp;&nbsp;RandomForestClassifier<a class=\"sk-estimator-doc-link fitted\" rel=\"noreferrer\" target=\"_blank\" href=\"https://scikit-learn.org/1.5/modules/generated/sklearn.ensemble.RandomForestClassifier.html\">?<span>Documentation for RandomForestClassifier</span></a><span class=\"sk-estimator-doc-link fitted\">i<span>Fitted</span></span></label><div class=\"sk-toggleable__content fitted\"><pre>RandomForestClassifier(n_estimators=50)</pre></div> </div></div></div></div>"
      ],
      "text/plain": [
       "RandomForestClassifier(n_estimators=50)"
      ]
     },
     "execution_count": 12,
     "metadata": {},
     "output_type": "execute_result"
    }
   ],
   "source": [
    "from sklearn.ensemble import RandomForestClassifier \n",
    "legit_train,legit_test, mal_train, mal_test = train_test_split(data_in_new, labels, test_size=0.2)\n",
    "classif = RandomForestClassifier(n_estimators=50)\n",
    "classif.fit(legit_train, mal_train)\n",
    "classif"
   ]
  },
  {
   "cell_type": "code",
   "execution_count": 13,
   "id": "0ffeafbe-8529-443c-b423-1d8ce898067c",
   "metadata": {},
   "outputs": [
    {
     "name": "stdout",
     "output_type": "stream",
     "text": [
      "The score of the algorithm:  99.3408185440058\n"
     ]
    }
   ],
   "source": [
    "print(\"The score of the algorithm: \",classif.score(legit_test,mal_test)*100)"
   ]
  },
  {
   "cell_type": "code",
   "execution_count": 14,
   "id": "5608e2d1-dd34-4667-95dd-9743e44cdc63",
   "metadata": {},
   "outputs": [],
   "source": [
    "from sklearn.metrics import confusion_matrix\n",
    "result = classif. predict(legit_test)\n",
    "conf_mat = confusion_matrix(mal_test, result)"
   ]
  },
  {
   "cell_type": "code",
   "execution_count": 15,
   "id": "6d7d3800-d0e2-4650-a996-fe439486e491",
   "metadata": {},
   "outputs": [
    {
     "data": {
      "text/plain": [
       "(2, 2)"
      ]
     },
     "execution_count": 15,
     "metadata": {},
     "output_type": "execute_result"
    }
   ],
   "source": [
    "conf_mat. shape"
   ]
  },
  {
   "cell_type": "code",
   "execution_count": null,
   "id": "31b1686e-29f0-4c98-a538-fbc5669a1899",
   "metadata": {},
   "outputs": [],
   "source": []
  },
  {
   "cell_type": "code",
   "execution_count": 16,
   "id": "6fa7efc3-4340-4ede-8b17-1ea7e5ff0cca",
   "metadata": {},
   "outputs": [
    {
     "data": {
      "text/plain": [
       "numpy.ndarray"
      ]
     },
     "execution_count": 16,
     "metadata": {},
     "output_type": "execute_result"
    }
   ],
   "source": [
    "type(conf_mat)"
   ]
  },
  {
   "cell_type": "code",
   "execution_count": 17,
   "id": "cf0af844-a3af-43c6-8ee4-80ef31f37d26",
   "metadata": {},
   "outputs": [
    {
     "data": {
      "text/plain": [
       "array([[19265,   109],\n",
       "       [   73,  8163]])"
      ]
     },
     "execution_count": 17,
     "metadata": {},
     "output_type": "execute_result"
    }
   ],
   "source": [
    "conf_mat"
   ]
  },
  {
   "cell_type": "code",
   "execution_count": 18,
   "id": "ff8307a7-fe92-4d7a-b8b1-b469c96a00b1",
   "metadata": {},
   "outputs": [
    {
     "name": "stdout",
     "output_type": "stream",
     "text": [
      "False positives:  0.562609683080417\n",
      "False negatives:  0.8863525983487129\n"
     ]
    }
   ],
   "source": [
    "print(\"False positives: \", conf_mat[0][1]/sum(conf_mat [0])*100)\n",
    "print (\"False negatives: \", conf_mat [1][0]/sum(conf_mat [1]) *100)"
   ]
  },
  {
   "cell_type": "code",
   "execution_count": 19,
   "id": "5fa7cc41-ea5d-4400-a1d5-c5dd2ef71788",
   "metadata": {},
   "outputs": [],
   "source": [
    "with open('malware_classifier.pkl', 'wb') as f:\n",
    "     pickle.dump(classif, f)"
   ]
  },
  {
   "cell_type": "code",
   "execution_count": 20,
   "id": "fe44fea2-4b74-4dc1-bdf4-55662b98239b",
   "metadata": {},
   "outputs": [
    {
     "data": {
      "text/html": [
       "<style>#sk-container-id-2 {\n",
       "  /* Definition of color scheme common for light and dark mode */\n",
       "  --sklearn-color-text: black;\n",
       "  --sklearn-color-line: gray;\n",
       "  /* Definition of color scheme for unfitted estimators */\n",
       "  --sklearn-color-unfitted-level-0: #fff5e6;\n",
       "  --sklearn-color-unfitted-level-1: #f6e4d2;\n",
       "  --sklearn-color-unfitted-level-2: #ffe0b3;\n",
       "  --sklearn-color-unfitted-level-3: chocolate;\n",
       "  /* Definition of color scheme for fitted estimators */\n",
       "  --sklearn-color-fitted-level-0: #f0f8ff;\n",
       "  --sklearn-color-fitted-level-1: #d4ebff;\n",
       "  --sklearn-color-fitted-level-2: #b3dbfd;\n",
       "  --sklearn-color-fitted-level-3: cornflowerblue;\n",
       "\n",
       "  /* Specific color for light theme */\n",
       "  --sklearn-color-text-on-default-background: var(--sg-text-color, var(--theme-code-foreground, var(--jp-content-font-color1, black)));\n",
       "  --sklearn-color-background: var(--sg-background-color, var(--theme-background, var(--jp-layout-color0, white)));\n",
       "  --sklearn-color-border-box: var(--sg-text-color, var(--theme-code-foreground, var(--jp-content-font-color1, black)));\n",
       "  --sklearn-color-icon: #696969;\n",
       "\n",
       "  @media (prefers-color-scheme: dark) {\n",
       "    /* Redefinition of color scheme for dark theme */\n",
       "    --sklearn-color-text-on-default-background: var(--sg-text-color, var(--theme-code-foreground, var(--jp-content-font-color1, white)));\n",
       "    --sklearn-color-background: var(--sg-background-color, var(--theme-background, var(--jp-layout-color0, #111)));\n",
       "    --sklearn-color-border-box: var(--sg-text-color, var(--theme-code-foreground, var(--jp-content-font-color1, white)));\n",
       "    --sklearn-color-icon: #878787;\n",
       "  }\n",
       "}\n",
       "\n",
       "#sk-container-id-2 {\n",
       "  color: var(--sklearn-color-text);\n",
       "}\n",
       "\n",
       "#sk-container-id-2 pre {\n",
       "  padding: 0;\n",
       "}\n",
       "\n",
       "#sk-container-id-2 input.sk-hidden--visually {\n",
       "  border: 0;\n",
       "  clip: rect(1px 1px 1px 1px);\n",
       "  clip: rect(1px, 1px, 1px, 1px);\n",
       "  height: 1px;\n",
       "  margin: -1px;\n",
       "  overflow: hidden;\n",
       "  padding: 0;\n",
       "  position: absolute;\n",
       "  width: 1px;\n",
       "}\n",
       "\n",
       "#sk-container-id-2 div.sk-dashed-wrapped {\n",
       "  border: 1px dashed var(--sklearn-color-line);\n",
       "  margin: 0 0.4em 0.5em 0.4em;\n",
       "  box-sizing: border-box;\n",
       "  padding-bottom: 0.4em;\n",
       "  background-color: var(--sklearn-color-background);\n",
       "}\n",
       "\n",
       "#sk-container-id-2 div.sk-container {\n",
       "  /* jupyter's `normalize.less` sets `[hidden] { display: none; }`\n",
       "     but bootstrap.min.css set `[hidden] { display: none !important; }`\n",
       "     so we also need the `!important` here to be able to override the\n",
       "     default hidden behavior on the sphinx rendered scikit-learn.org.\n",
       "     See: https://github.com/scikit-learn/scikit-learn/issues/21755 */\n",
       "  display: inline-block !important;\n",
       "  position: relative;\n",
       "}\n",
       "\n",
       "#sk-container-id-2 div.sk-text-repr-fallback {\n",
       "  display: none;\n",
       "}\n",
       "\n",
       "div.sk-parallel-item,\n",
       "div.sk-serial,\n",
       "div.sk-item {\n",
       "  /* draw centered vertical line to link estimators */\n",
       "  background-image: linear-gradient(var(--sklearn-color-text-on-default-background), var(--sklearn-color-text-on-default-background));\n",
       "  background-size: 2px 100%;\n",
       "  background-repeat: no-repeat;\n",
       "  background-position: center center;\n",
       "}\n",
       "\n",
       "/* Parallel-specific style estimator block */\n",
       "\n",
       "#sk-container-id-2 div.sk-parallel-item::after {\n",
       "  content: \"\";\n",
       "  width: 100%;\n",
       "  border-bottom: 2px solid var(--sklearn-color-text-on-default-background);\n",
       "  flex-grow: 1;\n",
       "}\n",
       "\n",
       "#sk-container-id-2 div.sk-parallel {\n",
       "  display: flex;\n",
       "  align-items: stretch;\n",
       "  justify-content: center;\n",
       "  background-color: var(--sklearn-color-background);\n",
       "  position: relative;\n",
       "}\n",
       "\n",
       "#sk-container-id-2 div.sk-parallel-item {\n",
       "  display: flex;\n",
       "  flex-direction: column;\n",
       "}\n",
       "\n",
       "#sk-container-id-2 div.sk-parallel-item:first-child::after {\n",
       "  align-self: flex-end;\n",
       "  width: 50%;\n",
       "}\n",
       "\n",
       "#sk-container-id-2 div.sk-parallel-item:last-child::after {\n",
       "  align-self: flex-start;\n",
       "  width: 50%;\n",
       "}\n",
       "\n",
       "#sk-container-id-2 div.sk-parallel-item:only-child::after {\n",
       "  width: 0;\n",
       "}\n",
       "\n",
       "/* Serial-specific style estimator block */\n",
       "\n",
       "#sk-container-id-2 div.sk-serial {\n",
       "  display: flex;\n",
       "  flex-direction: column;\n",
       "  align-items: center;\n",
       "  background-color: var(--sklearn-color-background);\n",
       "  padding-right: 1em;\n",
       "  padding-left: 1em;\n",
       "}\n",
       "\n",
       "\n",
       "/* Toggleable style: style used for estimator/Pipeline/ColumnTransformer box that is\n",
       "clickable and can be expanded/collapsed.\n",
       "- Pipeline and ColumnTransformer use this feature and define the default style\n",
       "- Estimators will overwrite some part of the style using the `sk-estimator` class\n",
       "*/\n",
       "\n",
       "/* Pipeline and ColumnTransformer style (default) */\n",
       "\n",
       "#sk-container-id-2 div.sk-toggleable {\n",
       "  /* Default theme specific background. It is overwritten whether we have a\n",
       "  specific estimator or a Pipeline/ColumnTransformer */\n",
       "  background-color: var(--sklearn-color-background);\n",
       "}\n",
       "\n",
       "/* Toggleable label */\n",
       "#sk-container-id-2 label.sk-toggleable__label {\n",
       "  cursor: pointer;\n",
       "  display: block;\n",
       "  width: 100%;\n",
       "  margin-bottom: 0;\n",
       "  padding: 0.5em;\n",
       "  box-sizing: border-box;\n",
       "  text-align: center;\n",
       "}\n",
       "\n",
       "#sk-container-id-2 label.sk-toggleable__label-arrow:before {\n",
       "  /* Arrow on the left of the label */\n",
       "  content: \"▸\";\n",
       "  float: left;\n",
       "  margin-right: 0.25em;\n",
       "  color: var(--sklearn-color-icon);\n",
       "}\n",
       "\n",
       "#sk-container-id-2 label.sk-toggleable__label-arrow:hover:before {\n",
       "  color: var(--sklearn-color-text);\n",
       "}\n",
       "\n",
       "/* Toggleable content - dropdown */\n",
       "\n",
       "#sk-container-id-2 div.sk-toggleable__content {\n",
       "  max-height: 0;\n",
       "  max-width: 0;\n",
       "  overflow: hidden;\n",
       "  text-align: left;\n",
       "  /* unfitted */\n",
       "  background-color: var(--sklearn-color-unfitted-level-0);\n",
       "}\n",
       "\n",
       "#sk-container-id-2 div.sk-toggleable__content.fitted {\n",
       "  /* fitted */\n",
       "  background-color: var(--sklearn-color-fitted-level-0);\n",
       "}\n",
       "\n",
       "#sk-container-id-2 div.sk-toggleable__content pre {\n",
       "  margin: 0.2em;\n",
       "  border-radius: 0.25em;\n",
       "  color: var(--sklearn-color-text);\n",
       "  /* unfitted */\n",
       "  background-color: var(--sklearn-color-unfitted-level-0);\n",
       "}\n",
       "\n",
       "#sk-container-id-2 div.sk-toggleable__content.fitted pre {\n",
       "  /* unfitted */\n",
       "  background-color: var(--sklearn-color-fitted-level-0);\n",
       "}\n",
       "\n",
       "#sk-container-id-2 input.sk-toggleable__control:checked~div.sk-toggleable__content {\n",
       "  /* Expand drop-down */\n",
       "  max-height: 200px;\n",
       "  max-width: 100%;\n",
       "  overflow: auto;\n",
       "}\n",
       "\n",
       "#sk-container-id-2 input.sk-toggleable__control:checked~label.sk-toggleable__label-arrow:before {\n",
       "  content: \"▾\";\n",
       "}\n",
       "\n",
       "/* Pipeline/ColumnTransformer-specific style */\n",
       "\n",
       "#sk-container-id-2 div.sk-label input.sk-toggleable__control:checked~label.sk-toggleable__label {\n",
       "  color: var(--sklearn-color-text);\n",
       "  background-color: var(--sklearn-color-unfitted-level-2);\n",
       "}\n",
       "\n",
       "#sk-container-id-2 div.sk-label.fitted input.sk-toggleable__control:checked~label.sk-toggleable__label {\n",
       "  background-color: var(--sklearn-color-fitted-level-2);\n",
       "}\n",
       "\n",
       "/* Estimator-specific style */\n",
       "\n",
       "/* Colorize estimator box */\n",
       "#sk-container-id-2 div.sk-estimator input.sk-toggleable__control:checked~label.sk-toggleable__label {\n",
       "  /* unfitted */\n",
       "  background-color: var(--sklearn-color-unfitted-level-2);\n",
       "}\n",
       "\n",
       "#sk-container-id-2 div.sk-estimator.fitted input.sk-toggleable__control:checked~label.sk-toggleable__label {\n",
       "  /* fitted */\n",
       "  background-color: var(--sklearn-color-fitted-level-2);\n",
       "}\n",
       "\n",
       "#sk-container-id-2 div.sk-label label.sk-toggleable__label,\n",
       "#sk-container-id-2 div.sk-label label {\n",
       "  /* The background is the default theme color */\n",
       "  color: var(--sklearn-color-text-on-default-background);\n",
       "}\n",
       "\n",
       "/* On hover, darken the color of the background */\n",
       "#sk-container-id-2 div.sk-label:hover label.sk-toggleable__label {\n",
       "  color: var(--sklearn-color-text);\n",
       "  background-color: var(--sklearn-color-unfitted-level-2);\n",
       "}\n",
       "\n",
       "/* Label box, darken color on hover, fitted */\n",
       "#sk-container-id-2 div.sk-label.fitted:hover label.sk-toggleable__label.fitted {\n",
       "  color: var(--sklearn-color-text);\n",
       "  background-color: var(--sklearn-color-fitted-level-2);\n",
       "}\n",
       "\n",
       "/* Estimator label */\n",
       "\n",
       "#sk-container-id-2 div.sk-label label {\n",
       "  font-family: monospace;\n",
       "  font-weight: bold;\n",
       "  display: inline-block;\n",
       "  line-height: 1.2em;\n",
       "}\n",
       "\n",
       "#sk-container-id-2 div.sk-label-container {\n",
       "  text-align: center;\n",
       "}\n",
       "\n",
       "/* Estimator-specific */\n",
       "#sk-container-id-2 div.sk-estimator {\n",
       "  font-family: monospace;\n",
       "  border: 1px dotted var(--sklearn-color-border-box);\n",
       "  border-radius: 0.25em;\n",
       "  box-sizing: border-box;\n",
       "  margin-bottom: 0.5em;\n",
       "  /* unfitted */\n",
       "  background-color: var(--sklearn-color-unfitted-level-0);\n",
       "}\n",
       "\n",
       "#sk-container-id-2 div.sk-estimator.fitted {\n",
       "  /* fitted */\n",
       "  background-color: var(--sklearn-color-fitted-level-0);\n",
       "}\n",
       "\n",
       "/* on hover */\n",
       "#sk-container-id-2 div.sk-estimator:hover {\n",
       "  /* unfitted */\n",
       "  background-color: var(--sklearn-color-unfitted-level-2);\n",
       "}\n",
       "\n",
       "#sk-container-id-2 div.sk-estimator.fitted:hover {\n",
       "  /* fitted */\n",
       "  background-color: var(--sklearn-color-fitted-level-2);\n",
       "}\n",
       "\n",
       "/* Specification for estimator info (e.g. \"i\" and \"?\") */\n",
       "\n",
       "/* Common style for \"i\" and \"?\" */\n",
       "\n",
       ".sk-estimator-doc-link,\n",
       "a:link.sk-estimator-doc-link,\n",
       "a:visited.sk-estimator-doc-link {\n",
       "  float: right;\n",
       "  font-size: smaller;\n",
       "  line-height: 1em;\n",
       "  font-family: monospace;\n",
       "  background-color: var(--sklearn-color-background);\n",
       "  border-radius: 1em;\n",
       "  height: 1em;\n",
       "  width: 1em;\n",
       "  text-decoration: none !important;\n",
       "  margin-left: 1ex;\n",
       "  /* unfitted */\n",
       "  border: var(--sklearn-color-unfitted-level-1) 1pt solid;\n",
       "  color: var(--sklearn-color-unfitted-level-1);\n",
       "}\n",
       "\n",
       ".sk-estimator-doc-link.fitted,\n",
       "a:link.sk-estimator-doc-link.fitted,\n",
       "a:visited.sk-estimator-doc-link.fitted {\n",
       "  /* fitted */\n",
       "  border: var(--sklearn-color-fitted-level-1) 1pt solid;\n",
       "  color: var(--sklearn-color-fitted-level-1);\n",
       "}\n",
       "\n",
       "/* On hover */\n",
       "div.sk-estimator:hover .sk-estimator-doc-link:hover,\n",
       ".sk-estimator-doc-link:hover,\n",
       "div.sk-label-container:hover .sk-estimator-doc-link:hover,\n",
       ".sk-estimator-doc-link:hover {\n",
       "  /* unfitted */\n",
       "  background-color: var(--sklearn-color-unfitted-level-3);\n",
       "  color: var(--sklearn-color-background);\n",
       "  text-decoration: none;\n",
       "}\n",
       "\n",
       "div.sk-estimator.fitted:hover .sk-estimator-doc-link.fitted:hover,\n",
       ".sk-estimator-doc-link.fitted:hover,\n",
       "div.sk-label-container:hover .sk-estimator-doc-link.fitted:hover,\n",
       ".sk-estimator-doc-link.fitted:hover {\n",
       "  /* fitted */\n",
       "  background-color: var(--sklearn-color-fitted-level-3);\n",
       "  color: var(--sklearn-color-background);\n",
       "  text-decoration: none;\n",
       "}\n",
       "\n",
       "/* Span, style for the box shown on hovering the info icon */\n",
       ".sk-estimator-doc-link span {\n",
       "  display: none;\n",
       "  z-index: 9999;\n",
       "  position: relative;\n",
       "  font-weight: normal;\n",
       "  right: .2ex;\n",
       "  padding: .5ex;\n",
       "  margin: .5ex;\n",
       "  width: min-content;\n",
       "  min-width: 20ex;\n",
       "  max-width: 50ex;\n",
       "  color: var(--sklearn-color-text);\n",
       "  box-shadow: 2pt 2pt 4pt #999;\n",
       "  /* unfitted */\n",
       "  background: var(--sklearn-color-unfitted-level-0);\n",
       "  border: .5pt solid var(--sklearn-color-unfitted-level-3);\n",
       "}\n",
       "\n",
       ".sk-estimator-doc-link.fitted span {\n",
       "  /* fitted */\n",
       "  background: var(--sklearn-color-fitted-level-0);\n",
       "  border: var(--sklearn-color-fitted-level-3);\n",
       "}\n",
       "\n",
       ".sk-estimator-doc-link:hover span {\n",
       "  display: block;\n",
       "}\n",
       "\n",
       "/* \"?\"-specific style due to the `<a>` HTML tag */\n",
       "\n",
       "#sk-container-id-2 a.estimator_doc_link {\n",
       "  float: right;\n",
       "  font-size: 1rem;\n",
       "  line-height: 1em;\n",
       "  font-family: monospace;\n",
       "  background-color: var(--sklearn-color-background);\n",
       "  border-radius: 1rem;\n",
       "  height: 1rem;\n",
       "  width: 1rem;\n",
       "  text-decoration: none;\n",
       "  /* unfitted */\n",
       "  color: var(--sklearn-color-unfitted-level-1);\n",
       "  border: var(--sklearn-color-unfitted-level-1) 1pt solid;\n",
       "}\n",
       "\n",
       "#sk-container-id-2 a.estimator_doc_link.fitted {\n",
       "  /* fitted */\n",
       "  border: var(--sklearn-color-fitted-level-1) 1pt solid;\n",
       "  color: var(--sklearn-color-fitted-level-1);\n",
       "}\n",
       "\n",
       "/* On hover */\n",
       "#sk-container-id-2 a.estimator_doc_link:hover {\n",
       "  /* unfitted */\n",
       "  background-color: var(--sklearn-color-unfitted-level-3);\n",
       "  color: var(--sklearn-color-background);\n",
       "  text-decoration: none;\n",
       "}\n",
       "\n",
       "#sk-container-id-2 a.estimator_doc_link.fitted:hover {\n",
       "  /* fitted */\n",
       "  background-color: var(--sklearn-color-fitted-level-3);\n",
       "}\n",
       "</style><div id=\"sk-container-id-2\" class=\"sk-top-container\"><div class=\"sk-text-repr-fallback\"><pre>GradientBoostingClassifier(n_estimators=50)</pre><b>In a Jupyter environment, please rerun this cell to show the HTML representation or trust the notebook. <br />On GitHub, the HTML representation is unable to render, please try loading this page with nbviewer.org.</b></div><div class=\"sk-container\" hidden><div class=\"sk-item\"><div class=\"sk-estimator fitted sk-toggleable\"><input class=\"sk-toggleable__control sk-hidden--visually\" id=\"sk-estimator-id-2\" type=\"checkbox\" checked><label for=\"sk-estimator-id-2\" class=\"sk-toggleable__label fitted sk-toggleable__label-arrow fitted\">&nbsp;&nbsp;GradientBoostingClassifier<a class=\"sk-estimator-doc-link fitted\" rel=\"noreferrer\" target=\"_blank\" href=\"https://scikit-learn.org/1.5/modules/generated/sklearn.ensemble.GradientBoostingClassifier.html\">?<span>Documentation for GradientBoostingClassifier</span></a><span class=\"sk-estimator-doc-link fitted\">i<span>Fitted</span></span></label><div class=\"sk-toggleable__content fitted\"><pre>GradientBoostingClassifier(n_estimators=50)</pre></div> </div></div></div></div>"
      ],
      "text/plain": [
       "GradientBoostingClassifier(n_estimators=50)"
      ]
     },
     "execution_count": 20,
     "metadata": {},
     "output_type": "execute_result"
    }
   ],
   "source": [
    "from sklearn.ensemble import GradientBoostingClassifier\n",
    "grad_boost = GradientBoostingClassifier(n_estimators=50)\n",
    "grad_boost. fit(legit_train, mal_train)"
   ]
  },
  {
   "cell_type": "code",
   "execution_count": 21,
   "id": "f7e2f8bc-0bde-44a1-9675-7da99a782128",
   "metadata": {},
   "outputs": [
    {
     "name": "stdout",
     "output_type": "stream",
     "text": [
      "The score of the Gradient Boosting Classifier is: 98.76856211517565\n"
     ]
    }
   ],
   "source": [
    " print (\"The score of the Gradient Boosting Classifier is:\",grad_boost.score(legit_test, mal_test) *100)"
   ]
  },
  {
   "cell_type": "code",
   "execution_count": 22,
   "id": "c0b62308-94dc-4340-9509-db959df32fea",
   "metadata": {},
   "outputs": [],
   "source": [
    "from sklearn.metrics import confusion_matrix\n",
    "result = classif. predict(legit_test)\n",
    "conf_mat = confusion_matrix(mal_test, result)"
   ]
  },
  {
   "cell_type": "code",
   "execution_count": 23,
   "id": "7ad8b8c5-95a4-4f81-98af-25aee7a6e469",
   "metadata": {},
   "outputs": [
    {
     "data": {
      "text/plain": [
       "(2, 2)"
      ]
     },
     "execution_count": 23,
     "metadata": {},
     "output_type": "execute_result"
    }
   ],
   "source": [
    "conf_mat. shape"
   ]
  },
  {
   "cell_type": "code",
   "execution_count": 24,
   "id": "3106888b-dac2-4eee-8a4d-9fa36dd294de",
   "metadata": {},
   "outputs": [
    {
     "data": {
      "text/plain": [
       "numpy.ndarray"
      ]
     },
     "execution_count": 24,
     "metadata": {},
     "output_type": "execute_result"
    }
   ],
   "source": [
    "type(conf_mat)"
   ]
  },
  {
   "cell_type": "code",
   "execution_count": 25,
   "id": "06ddee17-875b-49e2-ab50-ecfae2a37a84",
   "metadata": {},
   "outputs": [
    {
     "data": {
      "text/plain": [
       "array([[19265,   109],\n",
       "       [   73,  8163]])"
      ]
     },
     "execution_count": 25,
     "metadata": {},
     "output_type": "execute_result"
    }
   ],
   "source": [
    "conf_mat"
   ]
  },
  {
   "cell_type": "code",
   "execution_count": 26,
   "id": "f66ef45b-1bbc-46de-b1de-d1f5f417f009",
   "metadata": {},
   "outputs": [
    {
     "name": "stdout",
     "output_type": "stream",
     "text": [
      "False positives:  0.562609683080417\n",
      "False negatives:  0.8863525983487129\n"
     ]
    }
   ],
   "source": [
    "print(\"False positives: \", conf_mat[0][1]/sum(conf_mat [0])*100)\n",
    "print (\"False negatives: \", conf_mat [1][0]/sum(conf_mat [1]) *100)"
   ]
  },
  {
   "cell_type": "code",
   "execution_count": 27,
   "id": "353f45ed-38d8-4605-974f-1625f4fef744",
   "metadata": {},
   "outputs": [
    {
     "data": {
      "text/plain": [
       "['malware_classifier.pkl']"
      ]
     },
     "execution_count": 27,
     "metadata": {},
     "output_type": "execute_result"
    }
   ],
   "source": [
    "import joblib\n",
    "joblib.dump(classif, \"malware_classifier.pkl\")\n"
   ]
  },
  {
   "cell_type": "markdown",
   "id": "6aa9b3c4-66da-4273-932f-250f4cc2848a",
   "metadata": {},
   "source": [
    "Testing the model"
   ]
  },
  {
   "cell_type": "code",
   "execution_count": 28,
   "id": "33bf114a-4420-40f5-be88-2225989ba3ba",
   "metadata": {},
   "outputs": [],
   "source": [
    "# Importing necessary libraries\n",
    "import pandas as pd\n",
    "from sklearn.metrics import accuracy_score, classification_report, confusion_matrix, ConfusionMatrixDisplay\n",
    "import matplotlib.pyplot as plt\n"
   ]
  },
  {
   "cell_type": "code",
   "execution_count": 29,
   "id": "4937a293-3790-435f-b5a3-aa7cc45b9a3c",
   "metadata": {},
   "outputs": [],
   "source": [
    "#Load the test dataset\n",
    "test_data = pd.read_csv(\"MalwareData.csv\", sep=\"|\") "
   ]
  },
  {
   "cell_type": "code",
   "execution_count": 30,
   "id": "06edf1c3-fb33-4cdf-86ef-3847a72a1351",
   "metadata": {},
   "outputs": [],
   "source": [
    "# Drop unnecessary columns and isolate features and labels\n",
    "test_features = test_data.drop(['Name', 'md5', 'legitimate'], axis=1)\n",
    "test_labels = test_data['legitimate']"
   ]
  },
  {
   "cell_type": "code",
   "execution_count": 31,
   "id": "3cfa79b8-de97-4bc7-872c-0153e4fa4dde",
   "metadata": {},
   "outputs": [
    {
     "name": "stderr",
     "output_type": "stream",
     "text": [
      "C:\\Users\\ritis\\AppData\\Local\\Programs\\Python\\Python311\\Lib\\site-packages\\sklearn\\base.py:486: UserWarning: X has feature names, but SelectFromModel was fitted without feature names\n",
      "  warnings.warn(\n"
     ]
    }
   ],
   "source": [
    "#Preprocess the test data (feature selection)\n",
    "\n",
    "test_features_selected = select.transform(test_features)"
   ]
  },
  {
   "cell_type": "code",
   "execution_count": 32,
   "id": "3d203d96-f414-4e65-83cf-c6d6ddba5d45",
   "metadata": {},
   "outputs": [],
   "source": [
    "#Load the trained model\n",
    "\n",
    "import joblib\n",
    "trained_model = joblib.load(\"malware_classifier.pkl\")"
   ]
  },
  {
   "cell_type": "code",
   "execution_count": 33,
   "id": "6499ff34-6a02-44ae-b05a-03a8ab69b98c",
   "metadata": {},
   "outputs": [],
   "source": [
    "#Make predictions on the test set\n",
    "test_predictions = trained_model.predict(test_features_selected)\n"
   ]
  },
  {
   "cell_type": "code",
   "execution_count": 34,
   "id": "82d64ce1-5ce2-4b9b-85eb-18a7f84a5e6b",
   "metadata": {},
   "outputs": [
    {
     "name": "stdout",
     "output_type": "stream",
     "text": [
      "Model Accuracy: 99.86%\n"
     ]
    }
   ],
   "source": [
    "#Evaluate model performance\n",
    "# Accuracy\n",
    "accuracy = accuracy_score(test_labels, test_predictions)\n",
    "print(f\"Model Accuracy: {accuracy * 100:.2f}%\")"
   ]
  },
  {
   "cell_type": "code",
   "execution_count": 35,
   "id": "896d4349-cb66-4a3f-be0a-8b0f6ab9ebbe",
   "metadata": {},
   "outputs": [
    {
     "name": "stdout",
     "output_type": "stream",
     "text": [
      "Classification Report:\n",
      "              precision    recall  f1-score   support\n",
      "\n",
      "           0       1.00      1.00      1.00     96724\n",
      "           1       1.00      1.00      1.00     41323\n",
      "\n",
      "    accuracy                           1.00    138047\n",
      "   macro avg       1.00      1.00      1.00    138047\n",
      "weighted avg       1.00      1.00      1.00    138047\n",
      "\n"
     ]
    }
   ],
   "source": [
    "# Classification Report\n",
    "print(\"Classification Report:\")\n",
    "print(classification_report(test_labels, test_predictions))\n"
   ]
  },
  {
   "cell_type": "code",
   "execution_count": 36,
   "id": "d4ad8013-60d3-49bc-a1d5-9d48813e6a0d",
   "metadata": {},
   "outputs": [
    {
     "name": "stdout",
     "output_type": "stream",
     "text": [
      "Confusion Matrix:\n",
      "[[96610   114]\n",
      " [   81 41242]]\n"
     ]
    }
   ],
   "source": [
    "# Confusion Matrix\n",
    "conf_matrix = confusion_matrix(test_labels, test_predictions)\n",
    "print(\"Confusion Matrix:\")\n",
    "print(conf_matrix)"
   ]
  },
  {
   "cell_type": "code",
   "execution_count": 37,
   "id": "da4606c5-9780-4642-ade7-27874fcc3fae",
   "metadata": {},
   "outputs": [
    {
     "data": {
      "image/png": "[encoded data removed]",
      "text/plain": [
       "<Figure size 640x480 with 2 Axes>"
      ]
     },
     "metadata": {},
     "output_type": "display_data"
    }
   ],
   "source": [
    "# Visualize Confusion Matrix\n",
    "disp = ConfusionMatrixDisplay(confusion_matrix=conf_matrix, display_labels=trained_model.classes_)\n",
    "disp.plot()\n",
    "plt.title(\"Confusion Matrix\")\n",
    "plt.show()\n"
   ]
  },
  {
   "cell_type": "code",
   "execution_count": null,
   "id": "5a25a460-e181-47bd-9f8b-293300e4729b",
   "metadata": {},
   "outputs": [],
   "source": []
  }
 ],
 "metadata": {
  "kernelspec": {
   "display_name": "Python 3 (ipykernel)",
   "language": "python",
   "name": "python3"
  },
  "language_info": {
   "codemirror_mode": {
    "name": "ipython",
    "version": 3
   },
   "file_extension": ".py",
   "mimetype": "text/x-python",
   "name": "python",
   "nbconvert_exporter": "python",
   "pygments_lexer": "ipython3",
   "version": "3.11.9"
  }
 },
 "nbformat": 4,
 "nbformat_minor": 5
}
